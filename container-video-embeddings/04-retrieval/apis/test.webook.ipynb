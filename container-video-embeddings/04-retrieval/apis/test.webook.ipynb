{
 "cells": [
  {
   "cell_type": "code",
   "execution_count": null,
   "id": "be9d23a9",
   "metadata": {},
   "outputs": [],
   "source": [
    "import requests\n",
    "\n",
    "api_url = \"<your-api>\"\n",
    "api_method = \"POST\"\n",
    "\n",
    "request_body =   {\n",
    "    \"query\": \"<your-quey>\", \n",
    "    \"method\": \"retrieve\",\n",
    "    \"k\": 10\n",
    "  }\n",
    "\n",
    "response = requests.post(api_url, json=request_body)\n"
   ]
  },
  {
   "cell_type": "code",
   "execution_count": null,
   "id": "4d2cf433",
   "metadata": {},
   "outputs": [],
   "source": [
    "response"
   ]
  },
  {
   "cell_type": "code",
   "execution_count": null,
   "id": "ebf86118",
   "metadata": {},
   "outputs": [],
   "source": [
    "docs = response.json().get(\"docs\")"
   ]
  },
  {
   "cell_type": "code",
   "execution_count": null,
   "id": "a3165bbf",
   "metadata": {},
   "outputs": [],
   "source": [
    "docs"
   ]
  },
  {
   "cell_type": "code",
   "execution_count": null,
   "id": "c7200d67",
   "metadata": {},
   "outputs": [],
   "source": [
    "import pandas as pd\n",
    "pd.DataFrame({\"id\": doc.get(\"id\"),\"page_content\": doc.get(\"page_content\"), **doc.get(\"metadata\")} for doc in docs)"
   ]
  },
  {
   "cell_type": "code",
   "execution_count": null,
   "id": "1d17a190",
   "metadata": {},
   "outputs": [],
   "source": []
  }
 ],
 "metadata": {
  "kernelspec": {
   "display_name": "Python 3",
   "language": "python",
   "name": "python3"
  },
  "language_info": {
   "codemirror_mode": {
    "name": "ipython",
    "version": 3
   },
   "file_extension": ".py",
   "mimetype": "text/x-python",
   "name": "python",
   "nbconvert_exporter": "python",
   "pygments_lexer": "ipython3",
   "version": "3.9.6"
  }
 },
 "nbformat": 4,
 "nbformat_minor": 5
}
