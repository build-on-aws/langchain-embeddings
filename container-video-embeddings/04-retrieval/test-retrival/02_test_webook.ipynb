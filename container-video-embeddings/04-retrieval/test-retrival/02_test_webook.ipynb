{
 "cells": [
  {
   "cell_type": "markdown",
   "id": "c4392462",
   "metadata": {},
   "source": [
    "This notebook allows you to test the retrieval API endpoints and workflow integration for the audio/video embeddings system. It demonstrates how to:\n",
    "\n",
    "1. Upload video files to the S3 bucket for processing\n",
    "2. Monitor Step Functions workflow executions\n",
    "3. Test the retrieval API endpoints with different query parameters"
   ]
  },
  {
   "cell_type": "code",
   "execution_count": null,
   "id": "be9d23a9",
   "metadata": {},
   "outputs": [],
   "source": [
    "import requests\n",
    "import boto3\n",
    "import os\n",
    "import pandas as pd\n",
    "import json\n",
    "from PIL import Image as PILImage\n",
    "\n",
    "region = os.environ.get(\"AWS_DEFAULT_REGION\", \"us-west-2\")\n",
    "ssm = boto3.client(service_name=\"ssm\", region_name=region)\n",
    "s3_client = boto3.client('s3')\n",
    "sns_client = boto3.client('stepfunctions')\n",
    "\n",
    "api_method = \"POST\"\n",
    "\n",
    "def get_ssm_parameter(name):\n",
    "    response = ssm.get_parameter(Name=name, WithDecryption=True)\n",
    "    return response[\"Parameter\"][\"Value\"]\n",
    "\n"
   ]
  },
  {
   "cell_type": "code",
   "execution_count": null,
   "id": "197caed5",
   "metadata": {},
   "outputs": [],
   "source": [
    "api_url = get_ssm_parameter(\"/videopgvector/api_retrieve\")\n",
    "bucket_name = get_ssm_parameter(\"/videopgvector/bucket_name\")\n",
    "state_machine_arn = get_ssm_parameter(\"/videopgvector/state_machine_arn\")"
   ]
  },
  {
   "cell_type": "code",
   "execution_count": null,
   "id": "ca6ec8be",
   "metadata": {},
   "outputs": [],
   "source": [
    "# Upload Video to Amazon S3 bucket\n",
    "def upload_file_to_s3 (video_path,bucket_name,s3_key):\n",
    "    s3_client.upload_file(video_path, bucket_name,s3_key)\n",
    "    print(\"Upload successful!\")\n",
    "\n",
    "base_path = \"images/\"\n",
    "\n",
    "def download_file(base_path,bucket, key, filename):\n",
    "    print(\"Download file from s3://{}{}\".format(bucket,key))\n",
    "    with open(base_path+filename, \"wb\") as data:\n",
    "        s3_client.download_fileobj(bucket, key, data)\n",
    "    print(\"Download file from s3://{}{}\".format(bucket,key))\n",
    "    return True\n",
    "\n",
    "def read_image_from_s3(s3_key):\n",
    "    parts = s3_key.split('s3://')[-1].split('/', 1)\n",
    "    bucket_name = parts[0]\n",
    "    image_key = parts[1]\n",
    "    try:\n",
    "        response = s3_client.get_object(Bucket=bucket_name, Key=image_key)\n",
    "        image_data = response['Body'].read()\n",
    "        return image_data\n",
    "    except Exception as e:\n",
    "        print(f'Error reading image from {s3_key}: {str(e)}')\n",
    "        raise\n"
   ]
  },
  {
   "cell_type": "code",
   "execution_count": null,
   "id": "8c239405",
   "metadata": {},
   "outputs": [],
   "source": [
    "video_path = \"<your-video-path>\"\n",
    "s3_key = f\"video/{video_path}\"\n",
    "upload_file_to_s3 (video_path,bucket_name,s3_key)"
   ]
  },
  {
   "cell_type": "markdown",
   "id": "9d02eda7",
   "metadata": {},
   "source": [
    "### Check the status of the Step Functions workflow processing your video"
   ]
  },
  {
   "cell_type": "code",
   "execution_count": null,
   "id": "c71aeeb8",
   "metadata": {},
   "outputs": [],
   "source": [
    "response = sns_client.describe_state_machine(\n",
    "    stateMachineArn=state_machine_arn\n",
    ")"
   ]
  },
  {
   "cell_type": "code",
   "execution_count": null,
   "id": "e5ce9a52",
   "metadata": {},
   "outputs": [],
   "source": [
    "response = sns_client.list_executions(\n",
    "    stateMachineArn=state_machine_arn,\n",
    "    maxResults=12\n",
    ")\n",
    "response['executions'][0]"
   ]
  },
  {
   "cell_type": "code",
   "execution_count": null,
   "id": "4d2cf433",
   "metadata": {},
   "outputs": [],
   "source": [
    "request_body =   {\n",
    "    \"query\": \"what is aurora\"\n",
    "    \"\", \n",
    "    \"method\": \"retrieve\",\n",
    "    \"k\": 10\n",
    "  }\n",
    "\n",
    "response = requests.post(api_url, json=request_body)\n",
    "response"
   ]
  },
  {
   "cell_type": "code",
   "execution_count": null,
   "id": "ebf86118",
   "metadata": {},
   "outputs": [],
   "source": [
    "docs = response.json().get(\"docs\")"
   ]
  },
  {
   "cell_type": "code",
   "execution_count": null,
   "id": "c7200d67",
   "metadata": {},
   "outputs": [],
   "source": [
    "pd.DataFrame({\"id\": doc.get(\"id\"),\"page_content\": doc.get(\"page_content\"), **doc.get(\"metadata\")} for doc in docs)"
   ]
  },
  {
   "cell_type": "code",
   "execution_count": null,
   "id": "2eea0818",
   "metadata": {},
   "outputs": [],
   "source": [
    "def show_row_image_text(docs):\n",
    "    for row in docs:\n",
    "        if row.get(\"metadata\").get(\"content_type\") == \"text\":\n",
    "            print (f\"text:\\n{row.get('chunks')}\\nmetadata:{row.get('metadata')}\\n\")\n",
    "        if row.get(\"metadata\").get(\"content_type\") == \"image\":\n",
    "            print(row)\n",
    "            sourceurl = row.get(\"metadata\").get('source')\n",
    "            print(sourceurl)\n",
    "            bucket_name = sourceurl.split(\"/\")[2] \n",
    "            key = sourceurl.replace(\"s3://\", \"\").replace(bucket_name,\"\").lstrip(\"/\")\n",
    "            filename = sourceurl.split(\"/\")[-1] \n",
    "            print(\"bucket_name: \",bucket_name)\n",
    "            print(\"key: \",key)\n",
    "            print(\"filename: \",filename)\n",
    "            download_file(base_path,bucket_name, key, filename)\n",
    "            img = PILImage.open(base_path+filename)            \n",
    "            print (f\"Image:\\n{row.get('sourceurl')}\\nmetadata:{row.get('metadata')}\\n\")\n",
    "            display(img)"
   ]
  },
  {
   "cell_type": "code",
   "execution_count": null,
   "id": "f48fef96",
   "metadata": {},
   "outputs": [],
   "source": [
    "show_row_image_text(docs)"
   ]
  },
  {
   "cell_type": "code",
   "execution_count": null,
   "id": "1d17a190",
   "metadata": {},
   "outputs": [],
   "source": [
    "request_body =   {\n",
    "    \"query\": \"what is aurora\"\n",
    "    \"\", \n",
    "    \"method\": \"retrieve_generate\",\n",
    "    \"k\": 10\n",
    "  }\n",
    "\n",
    "response = requests.post(api_url, json=request_body)\n",
    "response"
   ]
  },
  {
   "cell_type": "code",
   "execution_count": null,
   "id": "925e0cb2",
   "metadata": {},
   "outputs": [],
   "source": [
    "docs = response.json().get(\"docs\")"
   ]
  },
  {
   "cell_type": "code",
   "execution_count": null,
   "id": "12c82cd7",
   "metadata": {},
   "outputs": [],
   "source": [
    "response.json().get('response')"
   ]
  },
  {
   "cell_type": "code",
   "execution_count": null,
   "id": "234d90a6",
   "metadata": {},
   "outputs": [],
   "source": [
    "value = json.loads(response.json()[\"docs\"])\n"
   ]
  },
  {
   "cell_type": "code",
   "execution_count": null,
   "id": "3b011729",
   "metadata": {},
   "outputs": [],
   "source": [
    "pd.DataFrame({\"id\": doc.get(\"id\"),\"page_content\": doc.get(\"page_content\"), **doc.get(\"metadata\")} for doc in value['docs'])"
   ]
  },
  {
   "cell_type": "code",
   "execution_count": null,
   "id": "d69ed9ad",
   "metadata": {},
   "outputs": [],
   "source": [
    "show_row_image_text(value['docs'])"
   ]
  },
  {
   "cell_type": "code",
   "execution_count": null,
   "id": "e6f1e3c4",
   "metadata": {},
   "outputs": [],
   "source": []
  }
 ],
 "metadata": {
  "kernelspec": {
   "display_name": "Python 3",
   "language": "python",
   "name": "python3"
  },
  "language_info": {
   "codemirror_mode": {
    "name": "ipython",
    "version": 3
   },
   "file_extension": ".py",
   "mimetype": "text/x-python",
   "name": "python",
   "nbconvert_exporter": "python",
   "pygments_lexer": "ipython3",
   "version": "3.9.6"
  }
 },
 "nbformat": 4,
 "nbformat_minor": 5
}
