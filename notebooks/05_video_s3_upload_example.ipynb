{
 "cells": [
  {
   "cell_type": "markdown",
   "metadata": {},
   "source": [
    "# Subir Videos desde Carpeta Temporal a S3\n",
    "\n",
    "Este notebook muestra cómo utilizar la librería `video_s3_uploader.py` para subir videos desde una carpeta temporal a un bucket de S3."
   ]
  },
  {
   "cell_type": "code",
   "execution_count": null,
   "metadata": {},
   "source": [
    "# Importar la librería\n",
    "import video_s3_uploader as uploader\n",
    "import os"
   ]
  },
  {
   "cell_type": "markdown",
   "metadata": {},
   "source": [
    "## Configuración\n",
    "\n",
    "Definir la carpeta temporal y el bucket de S3"
   ]
  },
  {
   "cell_type": "code",
   "execution_count": null,
   "metadata": {},
   "source": [
    "# Configurar parámetros\n",
    "temp_folder = \"./tmp\"  # Carpeta temporal donde están los videos\n",
    "bucket_name = \"mi-bucket-videos\"  # Nombre del bucket de S3\n",
    "prefix = \"videos\"  # Prefijo opcional para organizar los archivos en S3"
   ]
  },
  {
   "cell_type": "markdown",
   "metadata": {},
   "source": [
    "## Verificar que la carpeta temporal existe"
   ]
  },
  {
   "cell_type": "code",
   "execution_count": null,
   "metadata": {},
   "source": [
    "# Verificar si la carpeta temporal existe\n",
    "if not os.path.exists(temp_folder):\n",
    "    print(f\"La carpeta {temp_folder} no existe. Creándola...\")\n",
    "    os.makedirs(temp_folder)\n",
    "    print(f\"Carpeta {temp_folder} creada. Por favor, coloca tus videos en esta carpeta.\")\n",
    "else:\n",
    "    print(f\"La carpeta {temp_folder} existe.\")\n",
    "    # Listar archivos en la carpeta\n",
    "    files = os.listdir(temp_folder)\n",
    "    video_files = [f for f in files if f.endswith(('.mp4', '.avi', '.mov', '.mkv', '.webm'))]\n",
    "    print(f\"Videos encontrados: {len(video_files)}\")\n",
    "    for video in video_files:\n",
    "        print(f\"  - {video}\")"
   ]
  },
  {
   "cell_type": "markdown",
   "metadata": {},
   "source": [
    "## Verificar y crear el bucket de S3 si es necesario"
   ]
  },
  {
   "cell_type": "code",
   "execution_count": null,
   "metadata": {},
   "source": [
    "# Verificar si el bucket existe\n",
    "if uploader.check_bucket_exists(bucket_name):\n",
    "    print(f\"El bucket {bucket_name} existe.\")\n",
    "else:\n",
    "    print(f\"El bucket {bucket_name} no existe. Creándolo...\")\n",
    "    # Puedes especificar una región si lo deseas\n",
    "    region = \"us-east-1\"  # Cambia esto según tu región preferida\n",
    "    if uploader.create_bucket(bucket_name, region):\n",
    "        print(f\"Bucket {bucket_name} creado exitosamente en la región {region}.\")\n",
    "    else:\n",
    "        print(f\"Error al crear el bucket {bucket_name}.\")"
   ]
  },
  {
   "cell_type": "markdown",
   "metadata": {},
   "source": [
    "## Subir videos a S3"
   ]
  },
  {
   "cell_type": "code",
   "execution_count": null,
   "metadata": {},
   "source": [
    "# Subir videos a S3\n",
    "results = uploader.upload_videos_to_s3(temp_folder, bucket_name, prefix)\n",
    "\n",
    "# Mostrar resultados\n",
    "print(f\"\\nResultados de la subida:\")\n",
    "for result in results:\n",
    "    if result[\"status\"] == \"success\":\n",
    "        print(f\"✅ {result['filename']} -> {result['s3_url']}\")\n",
    "    else:\n",
    "        print(f\"❌ {result['filename']} -> Error: {result['error']}\")\n",
    "\n",
    "# Resumen\n",
    "successful = sum(1 for r in results if r[\"status\"] == \"success\")\n",
    "failed = sum(1 for r in results if r[\"status\"] == \"failed\")\n",
    "print(f\"\\nResumen: {successful} videos subidos exitosamente, {failed} fallidos.\")"
   ]
  },
  {
   "cell_type": "markdown",
   "metadata": {},
   "source": [
    "## Ejemplo de uso de los videos subidos\n",
    "\n",
    "Una vez que los videos están en S3, puedes utilizarlos para diferentes propósitos, como procesamiento de video, análisis o integración con otros servicios de AWS."
   ]
  },
  {
   "cell_type": "code",
   "execution_count": null,
   "metadata": {},
   "source": [
    "# Ejemplo: Obtener las URLs de los videos subidos\n",
    "successful_uploads = [result for result in results if result[\"status\"] == \"success\"]\n",
    "video_urls = [result[\"s3_url\"] for result in successful_uploads]\n",
    "\n",
    "print(\"URLs de los videos subidos:\")\n",
    "for url in video_urls:\n",
    "    print(url)"
   ]
  }
 ],
 "metadata": {
  "kernelspec": {
   "display_name": "Python 3",
   "language": "python",
   "name": "python3"
  },
  "language_info": {
   "codemirror_mode": {
    "name": "ipython",
    "version": 3
   },
   "file_extension": ".py",
   "mimetype": "text/x-python",
   "name": "python",
   "nbconvert_exporter": "python",
   "pygments_lexer": "ipython3",
   "version": "3.8.10"
  }
 },
 "nbformat": 4,
 "nbformat_minor": 4
}
