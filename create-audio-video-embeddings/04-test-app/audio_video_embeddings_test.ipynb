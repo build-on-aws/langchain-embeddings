{
 "cells": [
  {
   "cell_type": "code",
   "execution_count": null,
   "metadata": {},
   "outputs": [],
   "source": [
    "import os\n",
    "import sys\n",
    "from step_function_utils import send_task_success\n",
    "from video_processor import ffmpeg_check, extract_frames\n",
    "from utils import download_file, parse_location, upload_file\n",
    "from get_image_embeddings import get_images_embeddings\n",
    "from similarity import cosine_similarity_list, filter_relevant_frames\n",
    "\n",
    "tmp_path                    = \"./tmp\"\n",
    "difference_threshold        = 0.9\n",
    "\n",
    "os.environ['S3_URI'] = 's3://you-bucket/video_in/video_corto.mp4'\n"
   ]
  },
  {
   "cell_type": "code",
   "execution_count": null,
   "metadata": {},
   "outputs": [],
   "source": [
    "s3_uri = os.environ.get(\"S3_URI\", \"s3://bucket/key\")\n",
    "task_token = os.environ.get(\"TASK_TOKEN\", None)\n",
    "\n",
    "print(s3_uri)"
   ]
  },
  {
   "cell_type": "code",
   "execution_count": null,
   "metadata": {},
   "outputs": [],
   "source": [
    "#ffmpeg_check()\n",
    "\n",
    "# Parse the S3 URI\n",
    "bucket, prefix, fileName, extension, file  = parse_location(s3_uri)\n",
    "\n",
    "# Print bucket and key\n",
    "print(f\"Bucket: {bucket}\")\n",
    "print(f\"prefix: {prefix}\")\n",
    "print(f\"extension: {extension}\")\n",
    "print(f\"file: {file}\")"
   ]
  },
  {
   "cell_type": "code",
   "execution_count": null,
   "metadata": {},
   "outputs": [],
   "source": [
    "local_path              = f\"{tmp_path}/{file}\"\n",
    "location                = f\"{prefix}/{file}\"\n",
    "output_dir              = f\"{tmp_path}/{fileName}\"\n",
    "\n",
    "# Create directory if it doesn't exist\n",
    "os.makedirs(os.path.dirname(local_path), exist_ok=True)\n",
    "\n",
    "print(f\"descargando {file} s3://{bucket}/{prefix} to {local_path}\")\n",
    "download_file(bucket,location, local_path)"
   ]
  },
  {
   "cell_type": "code",
   "execution_count": null,
   "metadata": {},
   "outputs": [],
   "source": [
    "files = extract_frames(local_path, output_dir)"
   ]
  },
  {
   "cell_type": "code",
   "execution_count": null,
   "metadata": {},
   "outputs": [],
   "source": [
    "embed_1024 = get_images_embeddings(files, embedding_dimmesion=1024)"
   ]
  },
  {
   "cell_type": "code",
   "execution_count": null,
   "metadata": {},
   "outputs": [],
   "source": [
    "similarity_1024 = cosine_similarity_list(embed_1024)"
   ]
  },
  {
   "cell_type": "code",
   "execution_count": null,
   "metadata": {},
   "outputs": [],
   "source": [
    "similarity_1024.append(0.5) # add this so the last one is pick\n",
    "selected_frames = filter_relevant_frames( similarity_1024, difference_threshold = difference_threshold)"
   ]
  },
  {
   "cell_type": "code",
   "execution_count": null,
   "metadata": {},
   "outputs": [],
   "source": [
    "selected_frames"
   ]
  },
  {
   "cell_type": "code",
   "execution_count": null,
   "metadata": {},
   "outputs": [],
   "source": [
    "\n",
    "selected_frames_real = []\n",
    "\n",
    "for sf in selected_frames:\n",
    "\n",
    "    origen_file = f\"{output_dir}/sec_{str(sf+1).zfill(5)}.jpg\"\n",
    "    real_frame = sf + 1\n",
    "    destination_key = f\"{prefix}/selected_frames/{real_frame}.jpg\"\n",
    "\n",
    "    print(f\"{origen_file} => {destination_key}\")\n",
    "    upload_file(bucket, destination_key, origen_file)\n",
    "    selected_frames_real.append(real_frame)\n"
   ]
  },
  {
   "cell_type": "code",
   "execution_count": null,
   "metadata": {},
   "outputs": [],
   "source": []
  }
 ],
 "metadata": {
  "kernelspec": {
   "display_name": ".venv",
   "language": "python",
   "name": "python3"
  },
  "language_info": {
   "codemirror_mode": {
    "name": "ipython",
    "version": 3
   },
   "file_extension": ".py",
   "mimetype": "text/x-python",
   "name": "python",
   "nbconvert_exporter": "python",
   "pygments_lexer": "ipython3",
   "version": "3.13.2"
  }
 },
 "nbformat": 4,
 "nbformat_minor": 2
}
